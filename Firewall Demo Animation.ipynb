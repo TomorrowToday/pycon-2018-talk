{
 "cells": [
  {
   "cell_type": "markdown",
   "metadata": {},
   "source": [
    "This notebook is used to construct an animated GIF illustrating \"challenge\" solved as part of this PyCon talk.\n",
    "The challenge is from [Advent of Code 2017 Day 13](http://adventofcode.com/2017/day/13) (Part 2).\n",
    "See the main notebook for a detailed description of the challenge."
   ]
  },
  {
   "cell_type": "code",
   "execution_count": 1,
   "metadata": {},
   "outputs": [],
   "source": [
    "import textwrap\n",
    "import time\n",
    "from io import BytesIO, StringIO"
   ]
  },
  {
   "cell_type": "code",
   "execution_count": 2,
   "metadata": {},
   "outputs": [],
   "source": [
    "# pillow docs: https://pillow.readthedocs.io/en/latest/\n",
    "import PIL\n",
    "from PIL import ImageDraw, ImageFont, ImageOps"
   ]
  },
  {
   "cell_type": "code",
   "execution_count": 3,
   "metadata": {},
   "outputs": [],
   "source": [
    "from IPython.display import clear_output, display, Image"
   ]
  },
  {
   "cell_type": "code",
   "execution_count": 4,
   "metadata": {},
   "outputs": [],
   "source": [
    "def test_input() -> dict:\n",
    "    \"\"\"The demonstration 'firewall'. Each row is a map of column position to height.\"\"\"\n",
    "    rows = StringIO(textwrap.dedent(\n",
    "        \"\"\"\\\n",
    "        0: 3\n",
    "        1: 2\n",
    "        4: 4\n",
    "        6: 4\n",
    "        \"\"\"))\n",
    "    return {layer: range_ for layer, range_ in (map(int, row.strip().split(': ')) for row in rows)}"
   ]
  },
  {
   "cell_type": "code",
   "execution_count": 5,
   "metadata": {},
   "outputs": [],
   "source": [
    "SCANNERS = test_input()"
   ]
  },
  {
   "cell_type": "code",
   "execution_count": 6,
   "metadata": {},
   "outputs": [],
   "source": [
    "# Image size\n",
    "SPACER = 4\n",
    "SQUARE_SIZE = 100\n",
    "\n",
    "cols = 4 + max(SCANNERS.keys()) + 1\n",
    "IMG_WIDTH = cols * SQUARE_SIZE + (cols - 1) * SPACER\n",
    "\n",
    "rows = 2 + max(SCANNERS.values())\n",
    "IMG_HEIGHT = rows * SQUARE_SIZE + (rows - 1) * SPACER"
   ]
  },
  {
   "cell_type": "code",
   "execution_count": 7,
   "metadata": {},
   "outputs": [
    {
     "data": {
      "text/plain": [
       "(1140, 620)"
      ]
     },
     "execution_count": 7,
     "metadata": {},
     "output_type": "execute_result"
    }
   ],
   "source": [
    "IMG_WIDTH, IMG_HEIGHT"
   ]
  },
  {
   "cell_type": "code",
   "execution_count": 8,
   "metadata": {},
   "outputs": [],
   "source": [
    "# Colors\n",
    "SCANNER_PRESENT = (229, 80, 57)\n",
    "SCANNER_ABSENT = (10, 61, 98)\n",
    "\n",
    "PACKET_FILL = (120, 224, 143)\n",
    "\n",
    "PATH_FILL = (106, 137, 204)"
   ]
  },
  {
   "cell_type": "code",
   "execution_count": 9,
   "metadata": {},
   "outputs": [],
   "source": [
    "def py_scanner_layer(scanner_range: int, time_step: int) -> int:\n",
    "    \"\"\"Calculates the position of a scanner within its range at a given time step.\"\"\"\n",
    "    cycle_midpoint = scanner_range - 1\n",
    "    full_cycle = cycle_midpoint * 2\n",
    "    cycle_position = time_step % full_cycle  \n",
    "    return cycle_position if cycle_position <= cycle_midpoint else full_cycle - cycle_position"
   ]
  },
  {
   "cell_type": "code",
   "execution_count": 10,
   "metadata": {},
   "outputs": [],
   "source": [
    "def draw_scanner(draw: ImageDraw.Draw, col: int, range_: int, t: int):\n",
    "    \"\"\"Draw one 'scanner' within the firewall.\"\"\"\n",
    "    col_left = (SQUARE_SIZE + SPACER) * col\n",
    "    for row in range(1, range_ + 1):\n",
    "        row_top = (SQUARE_SIZE + SPACER) * row\n",
    "        scanner_layer = py_scanner_layer(range_, t)\n",
    "        if scanner_layer + 1 == row:\n",
    "            color = SCANNER_PRESENT\n",
    "        else:\n",
    "            color = SCANNER_ABSENT\n",
    "        draw.rectangle([(col_left, row_top), (col_left + SQUARE_SIZE, row_top + SQUARE_SIZE)], fill=color)"
   ]
  },
  {
   "cell_type": "code",
   "execution_count": 11,
   "metadata": {},
   "outputs": [],
   "source": [
    "def draw_scanners(draw: ImageDraw.Draw, scanners: dict, t: int):\n",
    "    \"\"\"Draw all of the 'scanners' in the firewall.\"\"\"\n",
    "    for col, range_ in scanners.items():\n",
    "        draw_scanner(draw, col + 2, range_, t)"
   ]
  },
  {
   "cell_type": "code",
   "execution_count": 12,
   "metadata": {},
   "outputs": [],
   "source": [
    "def draw_packet(draw: ImageDraw.Draw, t: int):\n",
    "    \"\"\"Draw the 'packet' at a given time step.\"\"\"\n",
    "    packet_offset = SQUARE_SIZE // 5\n",
    "    col_left = SQUARE_SIZE + SPACER\n",
    "    row_top = SQUARE_SIZE + SPACER\n",
    "    packet_pos = 1\n",
    "    if t >= 10:\n",
    "        packet_pos = t - 9 + 1\n",
    "        col_left = (SQUARE_SIZE + SPACER) * packet_pos\n",
    "    draw.ellipse(\n",
    "        [(col_left + packet_offset, row_top + packet_offset), \n",
    "         (col_left + SQUARE_SIZE - packet_offset, row_top + SQUARE_SIZE - packet_offset)],\n",
    "        fill=PACKET_FILL)\n",
    "    return packet_pos"
   ]
  },
  {
   "cell_type": "code",
   "execution_count": 13,
   "metadata": {},
   "outputs": [],
   "source": [
    "def draw_path(draw: ImageDraw.Draw, packet_pos: int):\n",
    "    \"\"\"Draws a circle for each square in the path of our 'packet'.\"\"\"\n",
    "    path_offset = SQUARE_SIZE // 3\n",
    "    row_top = SQUARE_SIZE + SPACER + path_offset\n",
    "    row_bottom = SQUARE_SIZE + SPACER + SQUARE_SIZE - path_offset\n",
    "    for i in range(1, max(SCANNERS.keys()) + 4):\n",
    "        if i == packet_pos:\n",
    "            # don't draw a path circle at the current position of the packet\n",
    "            continue\n",
    "        col_left = (SQUARE_SIZE + SPACER) * i + path_offset\n",
    "        col_right = (SQUARE_SIZE + SPACER) * i + SQUARE_SIZE - path_offset\n",
    "        draw.ellipse([(col_left, row_top), (col_right, row_bottom)], fill=PATH_FILL)"
   ]
  },
  {
   "cell_type": "code",
   "execution_count": 15,
   "metadata": {},
   "outputs": [
    {
     "data": {
      "image/png": "[encoded data removed]",
      "text/plain": [
       "<PIL.Image.Image image mode=RGB size=1140x620 at 0x108179D68>"
      ]
     },
     "metadata": {},
     "output_type": "display_data"
    }
   ],
   "source": [
    "backup = PIL.Image.new('RGB', (IMG_WIDTH, IMG_HEIGHT), 'white')\n",
    "# Source Code Pro: https://github.com/adobe-fonts/source-code-pro\n",
    "# Or select a truetype font available on your system\n",
    "font = ImageFont.truetype('SourceCodePro-Bold.ttf', size=30)\n",
    "\n",
    "for t in range(0, 18 * 2):\n",
    "    frame = backup.copy()\n",
    "    draw = ImageDraw.Draw(frame)\n",
    "    \n",
    "    # Each time step is divided in two: in the first half the packet moves\n",
    "    # and in the second half the scanners move.\n",
    "    # This is implemented by moving the packet on even time steps\n",
    "    # and scanners on the odd time steps.\n",
    "    if t % 2 == 0:\n",
    "        # packet moves\n",
    "        draw_scanners(draw, SCANNERS, t // 2)\n",
    "        append = ''\n",
    "    else:\n",
    "        # scanners move (indicated with a ' marker on time step numbers)\n",
    "        draw_scanners(draw, SCANNERS, t // 2 + 1)\n",
    "        append = '\\''\n",
    "    \n",
    "    packet_pos = draw_packet(draw, t // 2)\n",
    "    draw_path(draw, packet_pos)\n",
    "    \n",
    "    # flip to put the path on the bottom\n",
    "    frame = ImageOps.flip(frame)\n",
    "    draw = ImageDraw.Draw(frame)\n",
    "    draw.text((10, 10), str(t // 2) + append, fill='black', font=font)\n",
    "    \n",
    "    # Display the image in the notebook to preview the animation\n",
    "    clear_output(wait=True)\n",
    "    display(frame)\n",
    "    time.sleep(1)\n",
    "    \n",
    "    frame.save(f'./images/frame{t // 2:02}{\"_\" if append else \"\"}.gif')"
   ]
  },
  {
   "cell_type": "markdown",
   "metadata": {},
   "source": [
    "Use [ImageMagick](https://www.imagemagick.org/script/index.php) to convert all of the frames to an animated gif with a spacing of 1 second.\n",
    "(Run as a shell command.)"
   ]
  },
  {
   "cell_type": "code",
   "execution_count": 2,
   "metadata": {},
   "outputs": [],
   "source": [
    "!convert -delay 50 images/frame*.gif images/scanners.gif"
   ]
  },
  {
   "cell_type": "code",
   "execution_count": null,
   "metadata": {},
   "outputs": [],
   "source": []
  }
 ],
 "metadata": {
  "kernelspec": {
   "display_name": "Python 3",
   "language": "python",
   "name": "python3"
  },
  "language_info": {
   "codemirror_mode": {
    "name": "ipython",
    "version": 3
   },
   "file_extension": ".py",
   "mimetype": "text/x-python",
   "name": "python",
   "nbconvert_exporter": "python",
   "pygments_lexer": "ipython3",
   "version": "3.6.5"
  }
 },
 "nbformat": 4,
 "nbformat_minor": 2
}
